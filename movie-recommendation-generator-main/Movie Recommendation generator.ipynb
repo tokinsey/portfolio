{
 "cells": [
  {
   "cell_type": "markdown",
   "metadata": {},
   "source": [
    "Assignment 9.2 Recommender System"
   ]
  },
  {
   "cell_type": "markdown",
   "metadata": {},
   "source": [
    "Toni Kinsey\n",
    "\n",
    "Week 9\n",
    "\n",
    "Due: 8/6/2023"
   ]
  },
  {
   "cell_type": "markdown",
   "metadata": {},
   "source": [
    "Source for how to use sklearn LabelEncoder and cosine_simularity:\n",
    "\n",
    "https://towardsdatascience.com/recommend-using-scikit-learn-and-tensorflow-recommender-bc659d91301a"
   ]
  },
  {
   "cell_type": "code",
   "execution_count": 14,
   "metadata": {},
   "outputs": [
    {
     "data": {
      "text/html": [
       "<div>\n",
       "<style scoped>\n",
       "    .dataframe tbody tr th:only-of-type {\n",
       "        vertical-align: middle;\n",
       "    }\n",
       "\n",
       "    .dataframe tbody tr th {\n",
       "        vertical-align: top;\n",
       "    }\n",
       "\n",
       "    .dataframe thead th {\n",
       "        text-align: right;\n",
       "    }\n",
       "</style>\n",
       "<table border=\"1\" class=\"dataframe\">\n",
       "  <thead>\n",
       "    <tr style=\"text-align: right;\">\n",
       "      <th></th>\n",
       "      <th>userId</th>\n",
       "      <th>movieId</th>\n",
       "      <th>tag</th>\n",
       "      <th>timestamp</th>\n",
       "    </tr>\n",
       "  </thead>\n",
       "  <tbody>\n",
       "    <tr>\n",
       "      <th>0</th>\n",
       "      <td>2</td>\n",
       "      <td>60756</td>\n",
       "      <td>funny</td>\n",
       "      <td>1445714994</td>\n",
       "    </tr>\n",
       "    <tr>\n",
       "      <th>1</th>\n",
       "      <td>2</td>\n",
       "      <td>60756</td>\n",
       "      <td>Highly quotable</td>\n",
       "      <td>1445714996</td>\n",
       "    </tr>\n",
       "    <tr>\n",
       "      <th>2</th>\n",
       "      <td>2</td>\n",
       "      <td>60756</td>\n",
       "      <td>will ferrell</td>\n",
       "      <td>1445714992</td>\n",
       "    </tr>\n",
       "    <tr>\n",
       "      <th>3</th>\n",
       "      <td>2</td>\n",
       "      <td>89774</td>\n",
       "      <td>Boxing story</td>\n",
       "      <td>1445715207</td>\n",
       "    </tr>\n",
       "    <tr>\n",
       "      <th>4</th>\n",
       "      <td>2</td>\n",
       "      <td>89774</td>\n",
       "      <td>MMA</td>\n",
       "      <td>1445715200</td>\n",
       "    </tr>\n",
       "    <tr>\n",
       "      <th>5</th>\n",
       "      <td>2</td>\n",
       "      <td>89774</td>\n",
       "      <td>Tom Hardy</td>\n",
       "      <td>1445715205</td>\n",
       "    </tr>\n",
       "    <tr>\n",
       "      <th>6</th>\n",
       "      <td>2</td>\n",
       "      <td>106782</td>\n",
       "      <td>drugs</td>\n",
       "      <td>1445715054</td>\n",
       "    </tr>\n",
       "    <tr>\n",
       "      <th>7</th>\n",
       "      <td>2</td>\n",
       "      <td>106782</td>\n",
       "      <td>Leonardo DiCaprio</td>\n",
       "      <td>1445715051</td>\n",
       "    </tr>\n",
       "    <tr>\n",
       "      <th>8</th>\n",
       "      <td>2</td>\n",
       "      <td>106782</td>\n",
       "      <td>Martin Scorsese</td>\n",
       "      <td>1445715056</td>\n",
       "    </tr>\n",
       "    <tr>\n",
       "      <th>9</th>\n",
       "      <td>7</td>\n",
       "      <td>48516</td>\n",
       "      <td>way too long</td>\n",
       "      <td>1169687325</td>\n",
       "    </tr>\n",
       "  </tbody>\n",
       "</table>\n",
       "</div>"
      ],
      "text/plain": [
       "   userId  movieId                tag   timestamp\n",
       "0       2    60756              funny  1445714994\n",
       "1       2    60756    Highly quotable  1445714996\n",
       "2       2    60756       will ferrell  1445714992\n",
       "3       2    89774       Boxing story  1445715207\n",
       "4       2    89774                MMA  1445715200\n",
       "5       2    89774          Tom Hardy  1445715205\n",
       "6       2   106782              drugs  1445715054\n",
       "7       2   106782  Leonardo DiCaprio  1445715051\n",
       "8       2   106782    Martin Scorsese  1445715056\n",
       "9       7    48516       way too long  1169687325"
      ]
     },
     "execution_count": 14,
     "metadata": {},
     "output_type": "execute_result"
    }
   ],
   "source": [
    "import os\n",
    "import pandas as pd\n",
    "from sklearn.preprocessing import LabelEncoder\n",
    "from sklearn.metrics.pairwise import cosine_similarity\n",
    "from heapq import nlargest\n",
    "\n",
    "\n",
    "# set directory\n",
    "os.chdir(r\"C:\\Users\\headc\\Documents\\Bellevue\\DSC630\\Week 9\\ml-latest-small\")\n",
    "\n",
    "# read the csv data from the files paths into datasets\n",
    "data1 = pd.read_csv('tags.csv')\n",
    "\n",
    "# display dataset\n",
    "data1.head(10)"
   ]
  },
  {
   "cell_type": "code",
   "execution_count": 15,
   "metadata": {},
   "outputs": [
    {
     "name": "stderr",
     "output_type": "stream",
     "text": [
      "C:\\Users\\headc\\AppData\\Local\\Temp\\ipykernel_3800\\1318122780.py:6: FutureWarning: pivot_table dropped a column because it failed to aggregate. This behavior is deprecated and will raise in a future version of pandas. Select only the columns that can be aggregated.\n",
      "  movie_matrix = data1.pivot_table(index='userId', columns='movieId', fill_value=0)\n"
     ]
    }
   ],
   "source": [
    "# Use LabelEncode on MovieID column to search for simularities\n",
    "label = LabelEncoder()\n",
    "data1['movieId'] = label.fit_transform(data1['movieId'])\n",
    "\n",
    "# Calculate using cosine\n",
    "movie_matrix = data1.pivot_table(index='userId', columns='movieId', fill_value=0)\n",
    "movie_simularity = cosine_similarity(movie_matrix.T)"
   ]
  },
  {
   "cell_type": "code",
   "execution_count": 16,
   "metadata": {},
   "outputs": [],
   "source": [
    "# Function for getting recommendations\n",
    "def get_rec(movieId, n=10):\n",
    "    # movie list\n",
    "    movies_count = label.transform([movieId])[0]\n",
    "\n",
    "    # Compare scores for selected movie to all other movies in dataset\n",
    "    movie_compare = movie_simularity[movies_count]\n",
    "\n",
    "    # Movie recommendations without the original\n",
    "    movie_picks = [m for m in nlargest(n + 1, range(len(movie_compare)), movie_compare.take) if m != movies_count]\n",
    "\n",
    "    # read original movieIds\n",
    "    recommendation = label.inverse_transform(movie_picks)\n",
    "     \n",
    "    # print\n",
    "    return recommendation"
   ]
  },
  {
   "cell_type": "code",
   "execution_count": 17,
   "metadata": {},
   "outputs": [
    {
     "name": "stdout",
     "output_type": "stream",
     "text": [
      "1. Recommended MovieId: 8641\n",
      "2. Recommended MovieId: 410\n",
      "3. Recommended MovieId: 2023\n",
      "4. Recommended MovieId: 2124\n",
      "5. Recommended MovieId: 2953\n",
      "6. Recommended MovieId: 4223\n",
      "7. Recommended MovieId: 6058\n",
      "8. Recommended MovieId: 6534\n",
      "9. Recommended MovieId: 6541\n",
      "10. Recommended MovieId: 6564\n"
     ]
    }
   ],
   "source": [
    "# take user input\n",
    "user_input = float(input('Enter the movieId of the movie you want recommendations like: ')) # changed to float. Int input gave error. Unsure why since the input I gave should be an acceptable int. \n",
    "\n",
    "# Based on user input, get movie recommendations\n",
    "recommend_movies = get_rec(user_input)\n",
    "\n",
    "# Print\n",
    "for m, movieId in enumerate(recommend_movies):\n",
    "    print(f'{m + 1}. Recommended MovieId: {movieId}')"
   ]
  },
  {
   "cell_type": "markdown",
   "metadata": {},
   "source": [
    "I noted my source above. I did change it slightly, but the process is the same. Given the dataset being loaded into python as Data1, I will refer to it as Data1. First, Data1 had to have similarities calculated. The thought wwas to find movie simularities based on user movie interactions. To acheive this, I created a matrix. This used the cosine similarity calculation between movie paired with user ratings. The getrec function was used to get movie recommendations once a given moveId was chosen from Data1. The function takes the movieId and retuns the top n (set to 10) recommendations of similar movies. Once the function was created, we needed to accept the user's moveId preference. This was done using a simple user_input variable accepting a float value from the user. I tried int, but kept getting an error. I am unsure why. Finally, recommend_movies variable takes the user input and compares it to Data1 by calling the get_rec function. The list is then printed in order of recommendations. The initial user input should never show in the vlaues. "
   ]
  }
 ],
 "metadata": {
  "kernelspec": {
   "display_name": "Python 3",
   "language": "python",
   "name": "python3"
  },
  "language_info": {
   "codemirror_mode": {
    "name": "ipython",
    "version": 3
   },
   "file_extension": ".py",
   "mimetype": "text/x-python",
   "name": "python",
   "nbconvert_exporter": "python",
   "pygments_lexer": "ipython3",
   "version": "3.9.13"
  },
  "orig_nbformat": 4
 },
 "nbformat": 4,
 "nbformat_minor": 2
}
